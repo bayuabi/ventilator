{
 "cells": [
  {
   "cell_type": "code",
   "execution_count": 10,
   "metadata": {},
   "outputs": [],
   "source": [
    "import serial\n",
    "import numpy as np\n",
    "import csv\n",
    "import matplotlib.pyplot as plt\n",
    "\n",
    "namaFile = input(\"Masukkan nama file :\")\n",
    "ser = serial.Serial(\"/dev/ttyUSB0\", 115200)\n",
    "\n",
    "while True:\n",
    "    nilaiSensor = input(\"Masukkan nilai mm H20 :\")\n",
    "    \n",
    "    adc = ser.readline().decode('utf-8').split('\\r\\n')[0]\n",
    "    with open(namaFile + \".csv\", 'a', newline = '') as f:\n",
    "        writer = csv.writer(f)\n",
    "        writer.writerow([nilaiSensor, adc])"
   ]
  },
  {
   "cell_type": "code",
   "execution_count": null,
   "metadata": {},
   "outputs": [],
   "source": []
  },
  {
   "cell_type": "code",
   "execution_count": 35,
   "metadata": {},
   "outputs": [
    {
     "name": "stdout",
     "output_type": "stream",
     "text": [
      "SLOPE : [-16.66666667]\n",
      "INTERCEPT : 686.6666666666666\n"
     ]
    },
    {
     "data": {
      "image/png": "[encoded data removed]",
      "text/plain": [
       "<Figure size 432x288 with 1 Axes>"
      ]
     },
     "metadata": {
      "needs_background": "light"
     },
     "output_type": "display_data"
    }
   ],
   "source": [
    "from sklearn.linear_model import LinearRegression\n",
    "\n",
    "allData = [[],[]]\n",
    "with open('coba.csv', 'r') as csvFile:\n",
    "    readCSV = csv.reader(csvFile, delimiter = ',')\n",
    "    for row in readCSV :\n",
    "#         print(float(row[0]))\n",
    "        allData[0].append(float(row[0]))\n",
    "        allData[1].append(float(row[1]))\n",
    "\n",
    "mmh20 = np.array(allData[0])\n",
    "adc = np.array(allData[1])\n",
    "adc = adc.reshape(-1, 1)\n",
    "\n",
    "model = LinearRegression()\n",
    "model.fit(adc, mmh20)\n",
    "print(\"SLOPE : \" + str(model.coef_))\n",
    "print(\"INTERCEPT : \" + str(model.intercept_))\n",
    "predict = model.predict(adc)\n",
    "plt.plot(adc, mmh20)\n",
    "plt.scatter(adc, predict)\n",
    "plt.show()"
   ]
  },
  {
   "cell_type": "code",
   "execution_count": 21,
   "metadata": {},
   "outputs": [
    {
     "data": {
      "text/plain": [
       "[220.0, 320.0]"
      ]
     },
     "execution_count": 21,
     "metadata": {},
     "output_type": "execute_result"
    }
   ],
   "source": []
  },
  {
   "cell_type": "code",
   "execution_count": null,
   "metadata": {},
   "outputs": [],
   "source": []
  }
 ],
 "metadata": {
  "kernelspec": {
   "display_name": "Python 3",
   "language": "python",
   "name": "python3"
  },
  "language_info": {
   "codemirror_mode": {
    "name": "ipython",
    "version": 3
   },
   "file_extension": ".py",
   "mimetype": "text/x-python",
   "name": "python",
   "nbconvert_exporter": "python",
   "pygments_lexer": "ipython3",
   "version": "3.7.3"
  }
 },
 "nbformat": 4,
 "nbformat_minor": 2
}
